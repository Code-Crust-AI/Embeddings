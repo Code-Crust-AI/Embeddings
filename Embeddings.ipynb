{
 "cells": [
  {
   "cell_type": "code",
   "execution_count": 48,
   "id": "bfd5cd4a",
   "metadata": {},
   "outputs": [],
   "source": [
    "import warnings\n",
    "warnings.filterwarnings('ignore')\n"
   ]
  },
  {
   "cell_type": "markdown",
   "id": "284597a0",
   "metadata": {},
   "source": [
    "### Introduction :\n",
    "Embeddings are a way to represent categoical data as a vector of numbers, and they are useful tool for machine learning models that require numerical inputs"
   ]
  },
  {
   "cell_type": "markdown",
   "id": "94fc74c5",
   "metadata": {},
   "source": [
    "# Word Embeddings :\n",
    "Word embeddings are learned from a large corpus of text and can be used to represent words as dense, low-dimensional vectors. they capture semantic relationships between words, so words that are similar in meaning are represented by vectors that are close together in vector space"
   ]
  },
  {
   "cell_type": "markdown",
   "id": "27d46068",
   "metadata": {},
   "source": [
    " \"Here is an example using gensim to train word embeddings\""
   ]
  },
  {
   "cell_type": "code",
   "execution_count": 15,
   "id": "8e3886d9",
   "metadata": {},
   "outputs": [],
   "source": [
    "from gensim.models.word2vec import Word2Vec"
   ]
  },
  {
   "cell_type": "code",
   "execution_count": 5,
   "id": "2338a56a",
   "metadata": {},
   "outputs": [],
   "source": [
    "#define a corpus of text\n",
    "corpus= [\n",
    "    ['this','is','a','sentence'],\n",
    "    ['this','is','another','sentence'],\n",
    "    ['yet','another','sentence'],\n",
    "    ['final','sentence']\n",
    "]"
   ]
  },
  {
   "cell_type": "code",
   "execution_count": 16,
   "id": "bff53770",
   "metadata": {},
   "outputs": [],
   "source": [
    "#train the embeddings\n",
    "model = Word2Vec(corpus, size=10, window=2, min_count=1)"
   ]
  },
  {
   "cell_type": "code",
   "execution_count": 17,
   "id": "082d15b4",
   "metadata": {},
   "outputs": [
    {
     "name": "stdout",
     "output_type": "stream",
     "text": [
      "[-0.00322773 -0.02506018  0.01332466  0.01145544 -0.03429416  0.02213798\n",
      " -0.02810966  0.01961226  0.01828236 -0.02361333]\n"
     ]
    }
   ],
   "source": [
    "#get the vector for a word\n",
    "\n",
    "vector = model.wv['sentence']\n",
    "print(vector)"
   ]
  },
  {
   "cell_type": "markdown",
   "id": "ca221f7d",
   "metadata": {},
   "source": [
    "#### i am using gensim to train word embeddings on a small corpus of sentence. then i retrive the embedding vector for the word \"sentence\"."
   ]
  },
  {
   "cell_type": "markdown",
   "id": "d045c591",
   "metadata": {},
   "source": [
    "### Visualizing Word Embeddings\n",
    "In this section i will visualize word embeddings using techinques such as t-SNE"
   ]
  },
  {
   "cell_type": "code",
   "execution_count": 19,
   "id": "be8ece29",
   "metadata": {},
   "outputs": [],
   "source": [
    "\n",
    "import numpy as np\n",
    "import matplotlib.pyplot as plt\n",
    "from sklearn.manifold import TSNE"
   ]
  },
  {
   "cell_type": "code",
   "execution_count": 31,
   "id": "769d85d5",
   "metadata": {},
   "outputs": [],
   "source": [
    "#get the vectors for each word\n",
    "words = list(model.wv.vocab)\n",
    "vectors = model.wv[words]"
   ]
  },
  {
   "cell_type": "markdown",
   "id": "723b3420",
   "metadata": {},
   "source": [
    "#### reduce the dimensionality of the embeddings using t-SNE"
   ]
  },
  {
   "cell_type": "code",
   "execution_count": 49,
   "id": "8f12b02e",
   "metadata": {},
   "outputs": [],
   "source": [
    "tsne =TSNE(n_components=2,random_state=0)\n",
    "vector_2d = tsne.fit_transform(vectors)"
   ]
  },
  {
   "cell_type": "markdown",
   "id": "ef7ebef4",
   "metadata": {},
   "source": [
    "### plot the embeddings"
   ]
  },
  {
   "cell_type": "code",
   "execution_count": 50,
   "id": "473d7bd0",
   "metadata": {},
   "outputs": [
    {
     "data": {
      "image/png": "[encoded data removed]",
      "text/plain": [
       "<Figure size 640x480 with 1 Axes>"
      ]
     },
     "metadata": {},
     "output_type": "display_data"
    }
   ],
   "source": [
    "for i, word in enumerate(words):\n",
    "    plt.scatter(vector_2d[i,0],vector_2d[i,1])\n",
    "    plt.annotate(word,xy=(vector_2d[i,0],vector_2d[i,1]))\n",
    "plt.show()"
   ]
  },
  {
   "cell_type": "code",
   "execution_count": null,
   "id": "f3f11641",
   "metadata": {},
   "outputs": [],
   "source": []
  }
 ],
 "metadata": {
  "kernelspec": {
   "display_name": "Python 3 (ipykernel)",
   "language": "python",
   "name": "python3"
  },
  "language_info": {
   "codemirror_mode": {
    "name": "ipython",
    "version": 3
   },
   "file_extension": ".py",
   "mimetype": "text/x-python",
   "name": "python",
   "nbconvert_exporter": "python",
   "pygments_lexer": "ipython3",
   "version": "3.9.13"
  }
 },
 "nbformat": 4,
 "nbformat_minor": 5
}
